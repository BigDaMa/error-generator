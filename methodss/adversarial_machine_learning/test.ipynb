{
 "cells": [
  {
   "cell_type": "markdown",
   "metadata": {},
   "source": [
    "# load the data and first test the base line "
   ]
  },
  {
   "cell_type": "code",
   "execution_count": 1,
   "metadata": {},
   "outputs": [
    {
     "name": "stderr",
     "output_type": "stream",
     "text": [
      "/home/milad/anaconda3/lib/python3.6/site-packages/sklearn/cross_validation.py:41: DeprecationWarning: This module was deprecated in version 0.18 in favor of the model_selection module into which all the refactored classes and functions are moved. Also note that the interface of the new CV iterators are different from that of this module. This module will be removed in 0.20.\n",
      "  \"This module will be removed in 0.20.\", DeprecationWarning)\n"
     ]
    }
   ],
   "source": [
    "# import load_iris function from datasets module\n",
    "from sklearn.datasets import load_iris\n",
    "from sklearn.cross_validation import train_test_split\n",
    "from sklearn.naive_bayes import MultinomialNB\n",
    "from sklearn.metrics import f1_score\n",
    "from sklearn.metrics import accuracy_score\n",
    "from sklearn.metrics import classification_report\n",
    "from sklearn.metrics import confusion_matrix\n",
    "import random\n",
    "import numpy as np"
   ]
  },
  {
   "cell_type": "code",
   "execution_count": 2,
   "metadata": {},
   "outputs": [
    {
     "name": "stdout",
     "output_type": "stream",
     "text": [
      "[[ 5.1  3.5  1.4  0.2]\n",
      " [ 4.9  3.   1.4  0.2]\n",
      " [ 4.7  3.2  1.3  0.2]\n",
      " [ 4.6  3.1  1.5  0.2]\n",
      " [ 5.   3.6  1.4  0.2]\n",
      " [ 5.4  3.9  1.7  0.4]\n",
      " [ 4.6  3.4  1.4  0.3]\n",
      " [ 5.   3.4  1.5  0.2]\n",
      " [ 4.4  2.9  1.4  0.2]\n",
      " [ 4.9  3.1  1.5  0.1]\n",
      " [ 5.4  3.7  1.5  0.2]\n",
      " [ 4.8  3.4  1.6  0.2]\n",
      " [ 4.8  3.   1.4  0.1]\n",
      " [ 4.3  3.   1.1  0.1]\n",
      " [ 5.8  4.   1.2  0.2]\n",
      " [ 5.7  4.4  1.5  0.4]\n",
      " [ 5.4  3.9  1.3  0.4]\n",
      " [ 5.1  3.5  1.4  0.3]\n",
      " [ 5.7  3.8  1.7  0.3]\n",
      " [ 5.1  3.8  1.5  0.3]\n",
      " [ 5.4  3.4  1.7  0.2]\n",
      " [ 5.1  3.7  1.5  0.4]\n",
      " [ 4.6  3.6  1.   0.2]\n",
      " [ 5.1  3.3  1.7  0.5]\n",
      " [ 4.8  3.4  1.9  0.2]\n",
      " [ 5.   3.   1.6  0.2]\n",
      " [ 5.   3.4  1.6  0.4]\n",
      " [ 5.2  3.5  1.5  0.2]\n",
      " [ 5.2  3.4  1.4  0.2]\n",
      " [ 4.7  3.2  1.6  0.2]\n",
      " [ 4.8  3.1  1.6  0.2]\n",
      " [ 5.4  3.4  1.5  0.4]\n",
      " [ 5.2  4.1  1.5  0.1]\n",
      " [ 5.5  4.2  1.4  0.2]\n",
      " [ 4.9  3.1  1.5  0.1]\n",
      " [ 5.   3.2  1.2  0.2]\n",
      " [ 5.5  3.5  1.3  0.2]\n",
      " [ 4.9  3.1  1.5  0.1]\n",
      " [ 4.4  3.   1.3  0.2]\n",
      " [ 5.1  3.4  1.5  0.2]\n",
      " [ 5.   3.5  1.3  0.3]\n",
      " [ 4.5  2.3  1.3  0.3]\n",
      " [ 4.4  3.2  1.3  0.2]\n",
      " [ 5.   3.5  1.6  0.6]\n",
      " [ 5.1  3.8  1.9  0.4]\n",
      " [ 4.8  3.   1.4  0.3]\n",
      " [ 5.1  3.8  1.6  0.2]\n",
      " [ 4.6  3.2  1.4  0.2]\n",
      " [ 5.3  3.7  1.5  0.2]\n",
      " [ 5.   3.3  1.4  0.2]\n",
      " [ 7.   3.2  4.7  1.4]\n",
      " [ 6.4  3.2  4.5  1.5]\n",
      " [ 6.9  3.1  4.9  1.5]\n",
      " [ 5.5  2.3  4.   1.3]\n",
      " [ 6.5  2.8  4.6  1.5]\n",
      " [ 5.7  2.8  4.5  1.3]\n",
      " [ 6.3  3.3  4.7  1.6]\n",
      " [ 4.9  2.4  3.3  1. ]\n",
      " [ 6.6  2.9  4.6  1.3]\n",
      " [ 5.2  2.7  3.9  1.4]\n",
      " [ 5.   2.   3.5  1. ]\n",
      " [ 5.9  3.   4.2  1.5]\n",
      " [ 6.   2.2  4.   1. ]\n",
      " [ 6.1  2.9  4.7  1.4]\n",
      " [ 5.6  2.9  3.6  1.3]\n",
      " [ 6.7  3.1  4.4  1.4]\n",
      " [ 5.6  3.   4.5  1.5]\n",
      " [ 5.8  2.7  4.1  1. ]\n",
      " [ 6.2  2.2  4.5  1.5]\n",
      " [ 5.6  2.5  3.9  1.1]\n",
      " [ 5.9  3.2  4.8  1.8]\n",
      " [ 6.1  2.8  4.   1.3]\n",
      " [ 6.3  2.5  4.9  1.5]\n",
      " [ 6.1  2.8  4.7  1.2]\n",
      " [ 6.4  2.9  4.3  1.3]\n",
      " [ 6.6  3.   4.4  1.4]\n",
      " [ 6.8  2.8  4.8  1.4]\n",
      " [ 6.7  3.   5.   1.7]\n",
      " [ 6.   2.9  4.5  1.5]\n",
      " [ 5.7  2.6  3.5  1. ]\n",
      " [ 5.5  2.4  3.8  1.1]\n",
      " [ 5.5  2.4  3.7  1. ]\n",
      " [ 5.8  2.7  3.9  1.2]\n",
      " [ 6.   2.7  5.1  1.6]\n",
      " [ 5.4  3.   4.5  1.5]\n",
      " [ 6.   3.4  4.5  1.6]\n",
      " [ 6.7  3.1  4.7  1.5]\n",
      " [ 6.3  2.3  4.4  1.3]\n",
      " [ 5.6  3.   4.1  1.3]\n",
      " [ 5.5  2.5  4.   1.3]\n",
      " [ 5.5  2.6  4.4  1.2]\n",
      " [ 6.1  3.   4.6  1.4]\n",
      " [ 5.8  2.6  4.   1.2]\n",
      " [ 5.   2.3  3.3  1. ]\n",
      " [ 5.6  2.7  4.2  1.3]\n",
      " [ 5.7  3.   4.2  1.2]\n",
      " [ 5.7  2.9  4.2  1.3]\n",
      " [ 6.2  2.9  4.3  1.3]\n",
      " [ 5.1  2.5  3.   1.1]\n",
      " [ 5.7  2.8  4.1  1.3]\n",
      " [ 6.3  3.3  6.   2.5]\n",
      " [ 5.8  2.7  5.1  1.9]\n",
      " [ 7.1  3.   5.9  2.1]\n",
      " [ 6.3  2.9  5.6  1.8]\n",
      " [ 6.5  3.   5.8  2.2]\n",
      " [ 7.6  3.   6.6  2.1]\n",
      " [ 4.9  2.5  4.5  1.7]\n",
      " [ 7.3  2.9  6.3  1.8]\n",
      " [ 6.7  2.5  5.8  1.8]\n",
      " [ 7.2  3.6  6.1  2.5]\n",
      " [ 6.5  3.2  5.1  2. ]\n",
      " [ 6.4  2.7  5.3  1.9]\n",
      " [ 6.8  3.   5.5  2.1]\n",
      " [ 5.7  2.5  5.   2. ]\n",
      " [ 5.8  2.8  5.1  2.4]\n",
      " [ 6.4  3.2  5.3  2.3]\n",
      " [ 6.5  3.   5.5  1.8]\n",
      " [ 7.7  3.8  6.7  2.2]\n",
      " [ 7.7  2.6  6.9  2.3]\n",
      " [ 6.   2.2  5.   1.5]\n",
      " [ 6.9  3.2  5.7  2.3]\n",
      " [ 5.6  2.8  4.9  2. ]\n",
      " [ 7.7  2.8  6.7  2. ]\n",
      " [ 6.3  2.7  4.9  1.8]\n",
      " [ 6.7  3.3  5.7  2.1]\n",
      " [ 7.2  3.2  6.   1.8]\n",
      " [ 6.2  2.8  4.8  1.8]\n",
      " [ 6.1  3.   4.9  1.8]\n",
      " [ 6.4  2.8  5.6  2.1]\n",
      " [ 7.2  3.   5.8  1.6]\n",
      " [ 7.4  2.8  6.1  1.9]\n",
      " [ 7.9  3.8  6.4  2. ]\n",
      " [ 6.4  2.8  5.6  2.2]\n",
      " [ 6.3  2.8  5.1  1.5]\n",
      " [ 6.1  2.6  5.6  1.4]\n",
      " [ 7.7  3.   6.1  2.3]\n",
      " [ 6.3  3.4  5.6  2.4]\n",
      " [ 6.4  3.1  5.5  1.8]\n",
      " [ 6.   3.   4.8  1.8]\n",
      " [ 6.9  3.1  5.4  2.1]\n",
      " [ 6.7  3.1  5.6  2.4]\n",
      " [ 6.9  3.1  5.1  2.3]\n",
      " [ 5.8  2.7  5.1  1.9]\n",
      " [ 6.8  3.2  5.9  2.3]\n",
      " [ 6.7  3.3  5.7  2.5]\n",
      " [ 6.7  3.   5.2  2.3]\n",
      " [ 6.3  2.5  5.   1.9]\n",
      " [ 6.5  3.   5.2  2. ]\n",
      " [ 6.2  3.4  5.4  2.3]\n",
      " [ 5.9  3.   5.1  1.8]]\n",
      "['sepal length (cm)', 'sepal width (cm)', 'petal length (cm)', 'petal width (cm)']\n",
      "[0 0 0 0 0 0 0 0 0 0 0 0 0 0 0 0 0 0 0 0 0 0 0 0 0 0 0 0 0 0 0 0 0 0 0 0 0\n",
      " 0 0 0 0 0 0 0 0 0 0 0 0 0 1 1 1 1 1 1 1 1 1 1 1 1 1 1 1 1 1 1 1 1 1 1 1 1\n",
      " 1 1 1 1 1 1 1 1 1 1 1 1 1 1 1 1 1 1 1 1 1 1 1 1 1 1 2 2 2 2 2 2 2 2 2 2 2\n",
      " 2 2 2 2 2 2 2 2 2 2 2 2 2 2 2 2 2 2 2 2 2 2 2 2 2 2 2 2 2 2 2 2 2 2 2 2 2\n",
      " 2 2]\n"
     ]
    }
   ],
   "source": [
    "# save \"bunch\" object containing iris dataset and its attributes\n",
    "iris = load_iris()\n",
    "type(iris)\n",
    "\n",
    "# print the iris data\n",
    "print(iris.data)\n",
    "\n",
    "\n",
    "# print the iris data\n",
    "# print(iris.data)\n",
    "\n",
    "\n",
    "# print the names of the four features\n",
    "print(iris.feature_names)\n",
    "\n",
    "\n",
    "# print integers representing the species of each observation# print \n",
    "print(iris.target)"
   ]
  },
  {
   "cell_type": "code",
   "execution_count": 3,
   "metadata": {},
   "outputs": [
    {
     "name": "stdout",
     "output_type": "stream",
     "text": [
      "['setosa' 'versicolor' 'virginica']\n"
     ]
    }
   ],
   "source": [
    "# print the encoding scheme for species: 0 = setosa, 1 = versicolor, 2 = virginica\n",
    "print(iris.target_names)"
   ]
  },
  {
   "cell_type": "code",
   "execution_count": 4,
   "metadata": {},
   "outputs": [],
   "source": [
    "# store feature matrix in \"X\"# store  \n",
    "X = iris.data\n",
    "\n",
    "# store response vector in \"y\"\n",
    "y = iris.target"
   ]
  },
  {
   "cell_type": "code",
   "execution_count": 5,
   "metadata": {},
   "outputs": [],
   "source": [
    "x_train, x_test, y_train, y_test = train_test_split(X, y, test_size=0.2, random_state=4)"
   ]
  },
  {
   "cell_type": "code",
   "execution_count": 6,
   "metadata": {},
   "outputs": [
    {
     "data": {
      "text/plain": [
       "MultinomialNB(alpha=1.0, class_prior=None, fit_prior=True)"
      ]
     },
     "execution_count": 6,
     "metadata": {},
     "output_type": "execute_result"
    }
   ],
   "source": [
    "mnb = MultinomialNB()\n",
    "mnb.fit(x_train,y_train)\n"
   ]
  },
  {
   "cell_type": "markdown",
   "metadata": {},
   "source": [
    "# result of the model  on test data (First step)"
   ]
  },
  {
   "cell_type": "code",
   "execution_count": 7,
   "metadata": {},
   "outputs": [
    {
     "name": "stdout",
     "output_type": "stream",
     "text": [
      "f1 on test data is       0.8095238095238096\n",
      "Accuracy on test data is 0.8666666666666667\n"
     ]
    }
   ],
   "source": [
    "#compute the f1 and accuracy\n",
    "\n",
    "y_pred=mnb.predict(x_test)\n",
    "\n",
    "print (\"f1 on test data is       {}\".format(f1_score(y_test, y_pred, average='macro')))\n",
    "print (\"Accuracy on test data is {}\".format(accuracy_score(y_test, y_pred)))\n"
   ]
  },
  {
   "cell_type": "code",
   "execution_count": 8,
   "metadata": {},
   "outputs": [
    {
     "name": "stdout",
     "output_type": "stream",
     "text": [
      "[2 0 2 2 2 1 1 0 0 2]\n",
      "[2 0 1 2 1 1 1 0 0 1]\n",
      "Accuracy on test data is 0.7666666666666667\n"
     ]
    }
   ],
   "source": [
    "#3 change for 10 percentage less accuracy\n",
    "print(y_test[:10])\n",
    "print(y_pred[:10])\n",
    "y_pred[:10]= [0,1,1,0,1,1,1,0,0,1]\n",
    "\n",
    "print (\"Accuracy on test data is {}\".format(accuracy_score(y_test, y_pred)))"
   ]
  },
  {
   "cell_type": "markdown",
   "metadata": {},
   "source": [
    "# result model on the same train data"
   ]
  },
  {
   "cell_type": "code",
   "execution_count": 11,
   "metadata": {},
   "outputs": [
    {
     "name": "stdout",
     "output_type": "stream",
     "text": [
      "f1 on same train data is       0.8777540867093107\n",
      "Accuracy on same train data is 0.875\n",
      "\n",
      "             precision    recall  f1-score   support\n",
      "\n",
      "          0       1.00      1.00      1.00        34\n",
      "          1       0.75      1.00      0.86        45\n",
      "          2       1.00      0.63      0.78        41\n",
      "\n",
      "avg / total       0.91      0.88      0.87       120\n",
      "\n",
      "(120, 4)\n",
      "[[34  0  0]\n",
      " [ 0 45  0]\n",
      " [ 0 15 26]]\n"
     ]
    }
   ],
   "source": [
    "y_pred_train=mnb.predict(x_train)\n",
    "\n",
    "\n",
    "print (\"f1 on same train data is       {}\".format(f1_score(y_train, y_pred_train, average='macro')))\n",
    "print (\"Accuracy on same train data is {}\".format(accuracy_score(y_train, y_pred_train)))\n",
    "print(\"\\n\" + classification_report(y_train, y_pred_train))\n",
    "\n",
    "print(x_train.shape)\n",
    "print(confusion_matrix(y_train, y_pred_train))\n"
   ]
  },
  {
   "cell_type": "markdown",
   "metadata": {},
   "source": [
    "# base line\n",
    "- change one feature and chek the target (change function)\n",
    "- change randomly one value and check the target(change random)"
   ]
  },
  {
   "cell_type": "code",
   "execution_count": 35,
   "metadata": {},
   "outputs": [],
   "source": [
    "def change(x_train,y_train,percetage,mnb):\n",
    "    \n",
    "    number_change = int(percetage/100*x_train.shape[0])\n",
    "    print(number_change)\n",
    "    \n",
    "    x_train_changed = np.copy(x_train)\n",
    "\n",
    "    for count,ele in enumerate(x_train_changed[:number_change]):\n",
    "        print(x_train[count],y_train[count])\n",
    "        for i in range(4):\n",
    "            x_train_changed[count][i] = 0\n",
    "\n",
    "            if (y_train[count] != mnb.predict([x_train_changed[count]])):\n",
    "                break\n",
    "            else:\n",
    "                x_train_changed[count]= np.copy(x_train[count])\n",
    "\n",
    "        print(x_train_changed[count],mnb.predict([x_train_changed[count]])[0])\n",
    "        print(\" \\n change number {} \\n\".format(count))\n",
    "\n",
    "    return np.copy(x_train_changed)"
   ]
  },
  {
   "cell_type": "code",
   "execution_count": 36,
   "metadata": {},
   "outputs": [
    {
     "name": "stdout",
     "output_type": "stream",
     "text": [
      "6\n",
      "[ 6.4  2.8  5.6  2.1] 2\n",
      "[ 6.4  2.8  0.   2.1] 1\n",
      " \n",
      " change number 0 \n",
      "\n",
      "[ 5.7  3.8  1.7  0.3] 0\n",
      "[ 5.7  0.   1.7  0.3] 1\n",
      " \n",
      " change number 1 \n",
      "\n",
      "[ 7.4  2.8  6.1  1.9] 2\n",
      "[ 7.4  2.8  0.   1.9] 0\n",
      " \n",
      " change number 2 \n",
      "\n",
      "[ 7.6  3.   6.6  2.1] 2\n",
      "[ 7.6  3.   0.   2.1] 0\n",
      " \n",
      " change number 3 \n",
      "\n",
      "[ 7.3  2.9  6.3  1.8] 2\n",
      "[ 7.3  2.9  0.   1.8] 0\n",
      " \n",
      " change number 4 \n",
      "\n",
      "[ 6.   2.9  4.5  1.5] 1\n",
      "[ 0.   2.9  4.5  1.5] 2\n",
      " \n",
      " change number 5 \n",
      "\n"
     ]
    }
   ],
   "source": [
    "# new=change(x_train,y_train,20.8,mnb)\n",
    "new=change(x_test,y_test,20,mnb)\n"
   ]
  },
  {
   "cell_type": "markdown",
   "metadata": {},
   "source": [
    "# result model on the dirty data (10 %)"
   ]
  },
  {
   "cell_type": "code",
   "execution_count": 37,
   "metadata": {},
   "outputs": [
    {
     "name": "stdout",
     "output_type": "stream",
     "text": [
      "f1 on same train data is       0.6530920060331825\n",
      "Accuracy on test data is 0.7333333333333333\n"
     ]
    }
   ],
   "source": [
    "y_pred_train_changed=mnb.predict(new)\n",
    "\n",
    "\n",
    "# print (\"f1 on same train data is       {}\".format(f1_score(y_train, y_pred_train_changed, average='macro')))\n",
    "# print (\"Accuracy on same train data is {}\".format(accuracy_score(y_train, y_pred_train_changed)))\n",
    "\n",
    "\n",
    "print (\"f1 on same train data is       {}\".format(f1_score(y_test, y_pred_train_changed, average='macro')))\n",
    "print (\"Accuracy on test data is {}\".format(accuracy_score(y_test, y_pred_train_changed)))"
   ]
  },
  {
   "cell_type": "code",
   "execution_count": 16,
   "metadata": {},
   "outputs": [],
   "source": [
    "def change_random(x_train,y_train,percetage,mnb):\n",
    "    number_change_requested = int(percetage/100*x_train.shape[0])\n",
    "    \n",
    "    print(\"{} percentage error is equal to {} change \\n\".format(percetage,number_change_requested))\n",
    "    row_history=[]\n",
    "    col_history=[]\n",
    "    \n",
    "    x_train_changed_random = np.copy(x_train)\n",
    "  \n",
    "    for i in range(number_change_requested):\n",
    "              \n",
    "        row = random.randint(1, x_train.shape[0])\n",
    "        col = random.randint(0,x_train.shape[1]-1)\n",
    "\n",
    "        while (row in row_history) or (col in col_history):\n",
    "            \n",
    "            row = random.randint(1, x_train.shape[0])\n",
    "            col = random.randint(0,x_train.shape[1]-1)\n",
    "        row_history.append(row)\n",
    "        col_history.append(col)\n",
    "\n",
    "\n",
    "        print(\"row {}   value {} {}\".format(row,x_train[row],y_train[row]))\n",
    "        \n",
    "        while(y_train[row] == mnb.predict([x_train_changed_random[row]])):\n",
    "            x_train_changed_random[row] = np.copy(x_train[row])\n",
    "            x_train_changed_random[row][col]=0\n",
    "            col = random.randint(0,x_train.shape[1]-1)\n",
    "                \n",
    "            \n",
    "        print(\"row {}   value {} {}\".format(row,x_train_changed_random[row],mnb.predict([x_train_changed_random[row]])[0]))\n",
    "#         print('\"\"\"\"\"\"\"\"\"\"\"\"\"\"\"\"\"')\n",
    "        print(\" \\n change number {} \\n\".format(i))\n",
    "        col_history=[]\n",
    "    return np.copy(x_train_changed_random)\n",
    "         \n",
    "\n"
   ]
  },
  {
   "cell_type": "code",
   "execution_count": 21,
   "metadata": {},
   "outputs": [
    {
     "name": "stdout",
     "output_type": "stream",
     "text": [
      "20 percentage error is equal to 6 change \n",
      "\n",
      "row 21   value [ 6.7  3.3  5.7  2.1] 2\n",
      "row 21   value [ 6.7  3.3  5.7  0. ] 1\n",
      " \n",
      " change number 0 \n",
      "\n",
      "row 28   value [ 5.4  3.4  1.7  0.2] 0\n",
      "row 28   value [ 5.4  0.   1.7  0.2] 1\n",
      " \n",
      " change number 1 \n",
      "\n",
      "row 23   value [ 5.   3.4  1.6  0.4] 0\n",
      "row 23   value [ 0.   3.4  1.6  0.4] 1\n",
      " \n",
      " change number 2 \n",
      "\n",
      "row 27   value [ 5.4  3.9  1.3  0.4] 0\n",
      "row 27   value [ 5.4  0.   1.3  0.4] 1\n",
      " \n",
      " change number 3 \n",
      "\n",
      "row 15   value [ 4.9  3.1  1.5  0.1] 0\n",
      "row 15   value [ 4.9  0.   1.5  0.1] 1\n",
      " \n",
      " change number 4 \n",
      "\n",
      "row 10   value [ 5.   3.   1.6  0.2] 0\n",
      "row 10   value [ 5.   0.   1.6  0.2] 1\n",
      " \n",
      " change number 5 \n",
      "\n"
     ]
    }
   ],
   "source": [
    "new_random=change_random(x_test,y_test,20,mnb)"
   ]
  },
  {
   "cell_type": "markdown",
   "metadata": {},
   "source": [
    "# result model on the dirty data (10 %) -random"
   ]
  },
  {
   "cell_type": "code",
   "execution_count": 22,
   "metadata": {},
   "outputs": [
    {
     "name": "stdout",
     "output_type": "stream",
     "text": [
      "f1 on same train data is       0.6433998100664767\n",
      "Accuracy on same train data is 0.6666666666666666\n"
     ]
    }
   ],
   "source": [
    "y_pred_test_changed_random=mnb.predict(new_random)\n",
    "\n",
    "\n",
    "# print (\"f1 on same train data is       {}\".format(f1_score(y_train, y_pred_train_changed_random, average='macro')))\n",
    "# print (\"Accuracy on same train data is {}\".format(accuracy_score(y_train, y_pred_train_changed_random)))\n",
    "\n",
    "\n",
    "print (\"f1 on same train data is       {}\".format(f1_score(y_test, y_pred_train_changed_random, average='macro')))\n",
    "print (\"Accuracy on same train data is {}\".format(accuracy_score(y_test, y_pred_train_changed_random)))"
   ]
  },
  {
   "cell_type": "markdown",
   "metadata": {},
   "source": [
    "# find the most important features"
   ]
  },
  {
   "cell_type": "code",
   "execution_count": 38,
   "metadata": {},
   "outputs": [],
   "source": [
    "from mlxtend.feature_selection import SequentialFeatureSelector as SFS\n",
    "from sklearn.neighbors import KNeighborsClassifier"
   ]
  },
  {
   "cell_type": "code",
   "execution_count": 39,
   "metadata": {},
   "outputs": [
    {
     "name": "stderr",
     "output_type": "stream",
     "text": [
      "[Parallel(n_jobs=1)]: Done   1 out of   1 | elapsed:    0.0s remaining:    0.0s\n",
      "[Parallel(n_jobs=1)]: Done   4 out of   4 | elapsed:    0.0s finished\n",
      "\n",
      "[2018-10-03 15:35:05] Features: 1/1 -- score: 0.333333333333"
     ]
    }
   ],
   "source": [
    "#knn = KNeighborsClassifier(n_neighbors=4)\n",
    "mnb2 = MultinomialNB()\n",
    "# sfs1 = SFS(knn, \n",
    "#            k_features=1, \n",
    "#            forward=True, \n",
    "#            floating=False, \n",
    "#            verbose=2,\n",
    "#            scoring='accuracy',\n",
    "#            cv=0)\n",
    "sfs1 = SFS(mnb, \n",
    "#            k_features=1, \n",
    "           forward=True, \n",
    "           floating=False, \n",
    "           verbose=2,\n",
    "           scoring='accuracy',\n",
    "           cv=0)\n",
    "\n",
    "\n",
    "\n",
    "\n",
    "\n",
    "\n",
    "sfs1 = sfs1.fit(X, y)"
   ]
  },
  {
   "cell_type": "code",
   "execution_count": 40,
   "metadata": {},
   "outputs": [
    {
     "data": {
      "text/plain": [
       "{1: {'avg_score': 0.33333333333333331,\n",
       "  'cv_scores': array([ 0.33333333]),\n",
       "  'feature_idx': (0,)}}"
      ]
     },
     "execution_count": 40,
     "metadata": {},
     "output_type": "execute_result"
    }
   ],
   "source": [
    "sfs1.subsets_\n"
   ]
  },
  {
   "cell_type": "markdown",
   "metadata": {},
   "source": [
    "# most important feature"
   ]
  },
  {
   "cell_type": "code",
   "execution_count": 41,
   "metadata": {},
   "outputs": [
    {
     "data": {
      "text/plain": [
       "(0,)"
      ]
     },
     "execution_count": 41,
     "metadata": {},
     "output_type": "execute_result"
    }
   ],
   "source": [
    "sfs1.k_feature_idx_"
   ]
  },
  {
   "cell_type": "code",
   "execution_count": 43,
   "metadata": {},
   "outputs": [],
   "source": [
    "def change_spetial_feature(x_train,y_train,percetage,mnb,feature):\n",
    "    change_item=0\n",
    "    number_change_spetial = int(percetage/100*x_train.shape[0])\n",
    "    print(number_change_spetial)\n",
    "    \n",
    "    x_train_changed_spetial = np.copy(x_train)\n",
    "\n",
    "    for count,ele in enumerate(x_train_changed_spetial):\n",
    "        \n",
    "\n",
    "        x_train_changed_spetial[count][feature] = 0\n",
    "\n",
    "        if (y_train[count] != mnb.predict([x_train_changed_spetial[count]])):\n",
    "            change_item=change_item+1\n",
    "            if (change_item < number_change_spetial):\n",
    "\n",
    "                print(x_train[count],y_train[count])\n",
    "                print(x_train_changed_spetial[count],mnb.predict([x_train_changed_spetial[count]])[0])\n",
    "                print(\" \\n change number {} \\n\".format(change_item))\n",
    "            else:\n",
    "\n",
    "                break\n",
    "        else:\n",
    "            x_train_changed_spetial[count]= np.copy(x_train[count])\n",
    "\n",
    "    return np.copy(x_train_changed_spetial)"
   ]
  },
  {
   "cell_type": "code",
   "execution_count": 46,
   "metadata": {},
   "outputs": [
    {
     "name": "stdout",
     "output_type": "stream",
     "text": [
      "6\n",
      "[ 6.   2.9  4.5  1.5] 1\n",
      "[ 0.   2.9  4.5  1.5] 2\n",
      " \n",
      " change number 1 \n",
      "\n",
      "[ 6.   2.7  5.1  1.6] 1\n",
      "[ 0.   2.7  5.1  1.6] 2\n",
      " \n",
      " change number 2 \n",
      "\n",
      "[ 5.   3.   1.6  0.2] 0\n",
      "[ 0.   3.   1.6  0.2] 1\n",
      " \n",
      " change number 3 \n",
      "\n",
      "[ 6.1  2.9  4.7  1.4] 1\n",
      "[ 0.   2.9  4.7  1.4] 2\n",
      " \n",
      " change number 4 \n",
      "\n",
      "[ 5.   2.   3.5  1. ] 1\n",
      "[ 0.   2.   3.5  1. ] 2\n",
      " \n",
      " change number 5 \n",
      "\n"
     ]
    }
   ],
   "source": [
    "new_random_spetial=change_spetial_feature(x_test,y_test,20,mnb,0)"
   ]
  },
  {
   "cell_type": "markdown",
   "metadata": {},
   "source": [
    "# result model on the dirty data (10 %) -spetial feature"
   ]
  },
  {
   "cell_type": "code",
   "execution_count": 47,
   "metadata": {},
   "outputs": [
    {
     "name": "stdout",
     "output_type": "stream",
     "text": [
      "f1 on same train data is       0.5518518518518519\n",
      "Accuracy on same train data is 0.6666666666666666\n"
     ]
    }
   ],
   "source": [
    "y_pred_train_changed_spetial=mnb.predict(new_random_spetial)\n",
    "\n",
    "\n",
    "# print (\"f1 on same train data is       {}\".format(f1_score(y_train, y_pred_train_changed_spetial, average='macro')))\n",
    "# print (\"Accuracy on same train data is {}\".format(accuracy_score(y_train, y_pred_train_changed_spetial)))\n",
    "\n",
    "print (\"f1 on same train data is       {}\".format(f1_score(y_test, y_pred_train_changed_spetial, average='macro')))\n",
    "print (\"Accuracy on same train data is {}\".format(accuracy_score(y_test, y_pred_train_changed_spetial)))"
   ]
  },
  {
   "cell_type": "code",
   "execution_count": 48,
   "metadata": {},
   "outputs": [
    {
     "name": "stdout",
     "output_type": "stream",
     "text": [
      "[ 0.   2.9  4.5  1.5]\n",
      "[ 0.   2.7  5.1  1.6]\n",
      "[ 0.   3.   1.6  0.2]\n",
      "[ 0.   2.9  4.7  1.4]\n",
      "[ 0.   2.   3.5  1. ]\n",
      "[ 0.   3.4  1.9  0.2]\n",
      "6\n"
     ]
    }
   ],
   "source": [
    "co=0\n",
    "for count1,ele1 in enumerate(new_random_spetial):\n",
    "    if ele1[0]==0:\n",
    "        co=co+1\n",
    "        print(new_random_spetial[count1])\n",
    "print(co)"
   ]
  },
  {
   "cell_type": "code",
   "execution_count": null,
   "metadata": {},
   "outputs": [],
   "source": []
  }
 ],
 "metadata": {
  "kernelspec": {
   "display_name": "Python 3",
   "language": "python",
   "name": "python3"
  },
  "language_info": {
   "codemirror_mode": {
    "name": "ipython",
    "version": 3
   },
   "file_extension": ".py",
   "mimetype": "text/x-python",
   "name": "python",
   "nbconvert_exporter": "python",
   "pygments_lexer": "ipython3",
   "version": "3.6.4"
  }
 },
 "nbformat": 4,
 "nbformat_minor": 2
}
