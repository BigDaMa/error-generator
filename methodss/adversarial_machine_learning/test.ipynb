{
 "cells": [
  {
   "cell_type": "code",
   "execution_count": 1,
   "metadata": {},
   "outputs": [],
   "source": [
    "# import load_iris function from datasets module\n",
    "from sklearn.datasets import load_iris"
   ]
  },
  {
   "cell_type": "code",
   "execution_count": 2,
   "metadata": {},
   "outputs": [
    {
     "data": {
      "text/plain": [
       "sklearn.utils.Bunch"
      ]
     },
     "execution_count": 2,
     "metadata": {},
     "output_type": "execute_result"
    }
   ],
   "source": [
    "# save \"bunch\" object containing iris dataset and its attributes\n",
    "iris = load_iris()\n",
    "type(iris)"
   ]
  },
  {
   "cell_type": "code",
   "execution_count": 3,
   "metadata": {},
   "outputs": [
    {
     "name": "stdout",
     "output_type": "stream",
     "text": [
      "[[ 5.1  3.5  1.4  0.2]\n",
      " [ 4.9  3.   1.4  0.2]\n",
      " [ 4.7  3.2  1.3  0.2]\n",
      " [ 4.6  3.1  1.5  0.2]\n",
      " [ 5.   3.6  1.4  0.2]\n",
      " [ 5.4  3.9  1.7  0.4]\n",
      " [ 4.6  3.4  1.4  0.3]\n",
      " [ 5.   3.4  1.5  0.2]\n",
      " [ 4.4  2.9  1.4  0.2]\n",
      " [ 4.9  3.1  1.5  0.1]\n",
      " [ 5.4  3.7  1.5  0.2]\n",
      " [ 4.8  3.4  1.6  0.2]\n",
      " [ 4.8  3.   1.4  0.1]\n",
      " [ 4.3  3.   1.1  0.1]\n",
      " [ 5.8  4.   1.2  0.2]\n",
      " [ 5.7  4.4  1.5  0.4]\n",
      " [ 5.4  3.9  1.3  0.4]\n",
      " [ 5.1  3.5  1.4  0.3]\n",
      " [ 5.7  3.8  1.7  0.3]\n",
      " [ 5.1  3.8  1.5  0.3]\n",
      " [ 5.4  3.4  1.7  0.2]\n",
      " [ 5.1  3.7  1.5  0.4]\n",
      " [ 4.6  3.6  1.   0.2]\n",
      " [ 5.1  3.3  1.7  0.5]\n",
      " [ 4.8  3.4  1.9  0.2]\n",
      " [ 5.   3.   1.6  0.2]\n",
      " [ 5.   3.4  1.6  0.4]\n",
      " [ 5.2  3.5  1.5  0.2]\n",
      " [ 5.2  3.4  1.4  0.2]\n",
      " [ 4.7  3.2  1.6  0.2]\n",
      " [ 4.8  3.1  1.6  0.2]\n",
      " [ 5.4  3.4  1.5  0.4]\n",
      " [ 5.2  4.1  1.5  0.1]\n",
      " [ 5.5  4.2  1.4  0.2]\n",
      " [ 4.9  3.1  1.5  0.1]\n",
      " [ 5.   3.2  1.2  0.2]\n",
      " [ 5.5  3.5  1.3  0.2]\n",
      " [ 4.9  3.1  1.5  0.1]\n",
      " [ 4.4  3.   1.3  0.2]\n",
      " [ 5.1  3.4  1.5  0.2]\n",
      " [ 5.   3.5  1.3  0.3]\n",
      " [ 4.5  2.3  1.3  0.3]\n",
      " [ 4.4  3.2  1.3  0.2]\n",
      " [ 5.   3.5  1.6  0.6]\n",
      " [ 5.1  3.8  1.9  0.4]\n",
      " [ 4.8  3.   1.4  0.3]\n",
      " [ 5.1  3.8  1.6  0.2]\n",
      " [ 4.6  3.2  1.4  0.2]\n",
      " [ 5.3  3.7  1.5  0.2]\n",
      " [ 5.   3.3  1.4  0.2]\n",
      " [ 7.   3.2  4.7  1.4]\n",
      " [ 6.4  3.2  4.5  1.5]\n",
      " [ 6.9  3.1  4.9  1.5]\n",
      " [ 5.5  2.3  4.   1.3]\n",
      " [ 6.5  2.8  4.6  1.5]\n",
      " [ 5.7  2.8  4.5  1.3]\n",
      " [ 6.3  3.3  4.7  1.6]\n",
      " [ 4.9  2.4  3.3  1. ]\n",
      " [ 6.6  2.9  4.6  1.3]\n",
      " [ 5.2  2.7  3.9  1.4]\n",
      " [ 5.   2.   3.5  1. ]\n",
      " [ 5.9  3.   4.2  1.5]\n",
      " [ 6.   2.2  4.   1. ]\n",
      " [ 6.1  2.9  4.7  1.4]\n",
      " [ 5.6  2.9  3.6  1.3]\n",
      " [ 6.7  3.1  4.4  1.4]\n",
      " [ 5.6  3.   4.5  1.5]\n",
      " [ 5.8  2.7  4.1  1. ]\n",
      " [ 6.2  2.2  4.5  1.5]\n",
      " [ 5.6  2.5  3.9  1.1]\n",
      " [ 5.9  3.2  4.8  1.8]\n",
      " [ 6.1  2.8  4.   1.3]\n",
      " [ 6.3  2.5  4.9  1.5]\n",
      " [ 6.1  2.8  4.7  1.2]\n",
      " [ 6.4  2.9  4.3  1.3]\n",
      " [ 6.6  3.   4.4  1.4]\n",
      " [ 6.8  2.8  4.8  1.4]\n",
      " [ 6.7  3.   5.   1.7]\n",
      " [ 6.   2.9  4.5  1.5]\n",
      " [ 5.7  2.6  3.5  1. ]\n",
      " [ 5.5  2.4  3.8  1.1]\n",
      " [ 5.5  2.4  3.7  1. ]\n",
      " [ 5.8  2.7  3.9  1.2]\n",
      " [ 6.   2.7  5.1  1.6]\n",
      " [ 5.4  3.   4.5  1.5]\n",
      " [ 6.   3.4  4.5  1.6]\n",
      " [ 6.7  3.1  4.7  1.5]\n",
      " [ 6.3  2.3  4.4  1.3]\n",
      " [ 5.6  3.   4.1  1.3]\n",
      " [ 5.5  2.5  4.   1.3]\n",
      " [ 5.5  2.6  4.4  1.2]\n",
      " [ 6.1  3.   4.6  1.4]\n",
      " [ 5.8  2.6  4.   1.2]\n",
      " [ 5.   2.3  3.3  1. ]\n",
      " [ 5.6  2.7  4.2  1.3]\n",
      " [ 5.7  3.   4.2  1.2]\n",
      " [ 5.7  2.9  4.2  1.3]\n",
      " [ 6.2  2.9  4.3  1.3]\n",
      " [ 5.1  2.5  3.   1.1]\n",
      " [ 5.7  2.8  4.1  1.3]\n",
      " [ 6.3  3.3  6.   2.5]\n",
      " [ 5.8  2.7  5.1  1.9]\n",
      " [ 7.1  3.   5.9  2.1]\n",
      " [ 6.3  2.9  5.6  1.8]\n",
      " [ 6.5  3.   5.8  2.2]\n",
      " [ 7.6  3.   6.6  2.1]\n",
      " [ 4.9  2.5  4.5  1.7]\n",
      " [ 7.3  2.9  6.3  1.8]\n",
      " [ 6.7  2.5  5.8  1.8]\n",
      " [ 7.2  3.6  6.1  2.5]\n",
      " [ 6.5  3.2  5.1  2. ]\n",
      " [ 6.4  2.7  5.3  1.9]\n",
      " [ 6.8  3.   5.5  2.1]\n",
      " [ 5.7  2.5  5.   2. ]\n",
      " [ 5.8  2.8  5.1  2.4]\n",
      " [ 6.4  3.2  5.3  2.3]\n",
      " [ 6.5  3.   5.5  1.8]\n",
      " [ 7.7  3.8  6.7  2.2]\n",
      " [ 7.7  2.6  6.9  2.3]\n",
      " [ 6.   2.2  5.   1.5]\n",
      " [ 6.9  3.2  5.7  2.3]\n",
      " [ 5.6  2.8  4.9  2. ]\n",
      " [ 7.7  2.8  6.7  2. ]\n",
      " [ 6.3  2.7  4.9  1.8]\n",
      " [ 6.7  3.3  5.7  2.1]\n",
      " [ 7.2  3.2  6.   1.8]\n",
      " [ 6.2  2.8  4.8  1.8]\n",
      " [ 6.1  3.   4.9  1.8]\n",
      " [ 6.4  2.8  5.6  2.1]\n",
      " [ 7.2  3.   5.8  1.6]\n",
      " [ 7.4  2.8  6.1  1.9]\n",
      " [ 7.9  3.8  6.4  2. ]\n",
      " [ 6.4  2.8  5.6  2.2]\n",
      " [ 6.3  2.8  5.1  1.5]\n",
      " [ 6.1  2.6  5.6  1.4]\n",
      " [ 7.7  3.   6.1  2.3]\n",
      " [ 6.3  3.4  5.6  2.4]\n",
      " [ 6.4  3.1  5.5  1.8]\n",
      " [ 6.   3.   4.8  1.8]\n",
      " [ 6.9  3.1  5.4  2.1]\n",
      " [ 6.7  3.1  5.6  2.4]\n",
      " [ 6.9  3.1  5.1  2.3]\n",
      " [ 5.8  2.7  5.1  1.9]\n",
      " [ 6.8  3.2  5.9  2.3]\n",
      " [ 6.7  3.3  5.7  2.5]\n",
      " [ 6.7  3.   5.2  2.3]\n",
      " [ 6.3  2.5  5.   1.9]\n",
      " [ 6.5  3.   5.2  2. ]\n",
      " [ 6.2  3.4  5.4  2.3]\n",
      " [ 5.9  3.   5.1  1.8]]\n"
     ]
    }
   ],
   "source": [
    "# print the iris data\n",
    "print(iris.data)"
   ]
  },
  {
   "cell_type": "code",
   "execution_count": 4,
   "metadata": {},
   "outputs": [
    {
     "name": "stdout",
     "output_type": "stream",
     "text": [
      "['sepal length (cm)', 'sepal width (cm)', 'petal length (cm)', 'petal width (cm)']\n"
     ]
    }
   ],
   "source": [
    "# print the names of the four features\n",
    "print(iris.feature_names)"
   ]
  },
  {
   "cell_type": "code",
   "execution_count": 5,
   "metadata": {},
   "outputs": [
    {
     "name": "stdout",
     "output_type": "stream",
     "text": [
      "[0 0 0 0 0 0 0 0 0 0 0 0 0 0 0 0 0 0 0 0 0 0 0 0 0 0 0 0 0 0 0 0 0 0 0 0 0\n",
      " 0 0 0 0 0 0 0 0 0 0 0 0 0 1 1 1 1 1 1 1 1 1 1 1 1 1 1 1 1 1 1 1 1 1 1 1 1\n",
      " 1 1 1 1 1 1 1 1 1 1 1 1 1 1 1 1 1 1 1 1 1 1 1 1 1 1 2 2 2 2 2 2 2 2 2 2 2\n",
      " 2 2 2 2 2 2 2 2 2 2 2 2 2 2 2 2 2 2 2 2 2 2 2 2 2 2 2 2 2 2 2 2 2 2 2 2 2\n",
      " 2 2]\n"
     ]
    }
   ],
   "source": [
    "# print integers representing the species of each observation# print \n",
    "print(iris.target)"
   ]
  },
  {
   "cell_type": "code",
   "execution_count": 6,
   "metadata": {},
   "outputs": [
    {
     "name": "stdout",
     "output_type": "stream",
     "text": [
      "['setosa' 'versicolor' 'virginica']\n"
     ]
    }
   ],
   "source": [
    "# print the encoding scheme for species: 0 = setosa, 1 = versicolor, 2 = virginica\n",
    "print(iris.target_names)"
   ]
  },
  {
   "cell_type": "code",
   "execution_count": 33,
   "metadata": {},
   "outputs": [],
   "source": [
    "# store feature matrix in \"X\"# store  \n",
    "X = iris.data\n",
    "\n",
    "# store response vector in \"y\"\n",
    "y = iris.target"
   ]
  },
  {
   "cell_type": "code",
   "execution_count": 8,
   "metadata": {},
   "outputs": [
    {
     "name": "stderr",
     "output_type": "stream",
     "text": [
      "/home/milad/anaconda3/lib/python3.6/site-packages/sklearn/cross_validation.py:41: DeprecationWarning: This module was deprecated in version 0.18 in favor of the model_selection module into which all the refactored classes and functions are moved. Also note that the interface of the new CV iterators are different from that of this module. This module will be removed in 0.20.\n",
      "  \"This module will be removed in 0.20.\", DeprecationWarning)\n"
     ]
    }
   ],
   "source": [
    "from sklearn.cross_validation import train_test_split\n",
    "from sklearn.naive_bayes import MultinomialNB\n",
    "from sklearn.metrics import f1_score\n",
    "import random\n",
    "import numpy as np"
   ]
  },
  {
   "cell_type": "code",
   "execution_count": 34,
   "metadata": {},
   "outputs": [],
   "source": [
    "x_train, x_test, y_train, y_test = train_test_split(X, y, test_size=0.2, random_state=4)"
   ]
  },
  {
   "cell_type": "code",
   "execution_count": 10,
   "metadata": {},
   "outputs": [
    {
     "data": {
      "text/plain": [
       "MultinomialNB(alpha=1.0, class_prior=None, fit_prior=True)"
      ]
     },
     "execution_count": 10,
     "metadata": {},
     "output_type": "execute_result"
    }
   ],
   "source": [
    "mnb = MultinomialNB()\n",
    "mnb.fit(x_train,y_train)\n"
   ]
  },
  {
   "cell_type": "code",
   "execution_count": 11,
   "metadata": {},
   "outputs": [],
   "source": [
    "y_pred=mnb.predict(x_test)"
   ]
  },
  {
   "cell_type": "code",
   "execution_count": 12,
   "metadata": {},
   "outputs": [
    {
     "data": {
      "text/plain": [
       "0.80952380952380965"
      ]
     },
     "execution_count": 12,
     "metadata": {},
     "output_type": "execute_result"
    }
   ],
   "source": [
    "f1_score(y_test, y_pred, average='macro')"
   ]
  },
  {
   "cell_type": "code",
   "execution_count": 13,
   "metadata": {},
   "outputs": [
    {
     "data": {
      "text/plain": [
       "0.87775408670931065"
      ]
     },
     "execution_count": 13,
     "metadata": {},
     "output_type": "execute_result"
    }
   ],
   "source": [
    "y_pred_train=mnb.predict(x_train)\n",
    "f1_score(y_train, y_pred_train, average='macro')"
   ]
  },
  {
   "cell_type": "code",
   "execution_count": null,
   "metadata": {},
   "outputs": [],
   "source": [
    "np.random.randint(4, size=10)"
   ]
  },
  {
   "cell_type": "code",
   "execution_count": 32,
   "metadata": {},
   "outputs": [],
   "source": [
    "def changed2(x_train,y_train,percetage,mnb):\n",
    "    \n",
    "    number_change = int(percetage/100*x_train.shape[0])\n",
    "    x_train_changed = x_train\n",
    "    result=[]\n",
    "    print(number_change)\n",
    "    for i in range(number_change):\n",
    "        p=1\n",
    "        print(x_train[i],y_train[i])\n",
    "        while (y_train[i] == mnb.predict([x_train_changed[i]])):\n",
    "            x_train_changed[i][p-1]= x_train[i][p-1]\n",
    "            x_train_changed[i][p]= 0\n",
    "            p= p+1\n",
    "            if p>=1:\n",
    "                x_train_changed[i][p-1]= x_train[i][p-1]\n",
    "                print(\"hahahah\")\n",
    "                print(x_train_changed[i])\n",
    "        print(x_train_changed[i],mnb.predict([x_train_changed[i]])[0])                \n",
    "        print(\"@@@@@@@@@@@@@@@@@@@@\")\n",
    "    return x_train_changed\n",
    "                                         "
   ]
  },
  {
   "cell_type": "code",
   "execution_count": 76,
   "metadata": {},
   "outputs": [],
   "source": [
    "def change_random(x_train,y_train,percetage,mnb):\n",
    "    \n",
    "    value_selector_history=[]\n",
    "    col_history=[]\n",
    "    number_change = int(percetage/100*x_train.shape[0])\n",
    "    x_train_changed = x_train\n",
    "    \n",
    "    \n",
    "    for i in range(number_change):\n",
    "              \n",
    "        row = random.randint(1, x_train.shape[0])\n",
    "        col = random.randint(0,x_train.shape[1]-1)\n",
    "\n",
    "        while (row in value_selector_history) or (col in col_history):\n",
    "            \n",
    "            row = random.randint(1, x_train.shape[0])\n",
    "            col = random.randint(0,x_train.shape[1]-1)\n",
    "        value_selector_history.append(row)\n",
    "        col_history.append(col)\n",
    "\n",
    "\n",
    "        print(\"row {}   value {} {}\".format(row,x_train[row],y_train[row]))\n",
    "        while(y_train[row] == mnb.predict([x_train_changed[row]])):\n",
    "            x_train_changed[row] = x_train[row]\n",
    "            x_train_changed[row][col]=0\n",
    "            col = random.randint(0,x_train.shape[1]-1)\n",
    "                \n",
    "#             if (y_train[row] == mnb.predict([x_train_changed[row]])):\n",
    "#                 col = random.randint(0,x_train.shape[1]-1)\n",
    "            \n",
    "        print(\"row {}   value {} {}\".format(row,x_train_changed[row],mnb.predict([x_train_changed[row]])[0]))\n",
    "        print('\"\"\"\"\"\"\"\"\"\"\"\"\"\"\"\"\"')\n",
    "        col_history=[]\n",
    "\n",
    "         \n",
    "\n"
   ]
  },
  {
   "cell_type": "code",
   "execution_count": 82,
   "metadata": {},
   "outputs": [
    {
     "name": "stdout",
     "output_type": "stream",
     "text": [
      "row 70   value [ 6.8  2.8  0.   1.4] 1\n",
      "row 70   value [ 6.8  2.8  0.   1.4] 0\n",
      "\"\"\"\"\"\"\"\"\"\"\"\"\"\"\"\"\"\n",
      "row 1   value [ 4.6  3.2  1.4  0.2] 0\n",
      "row 1   value [ 4.6  0.   1.4  0.2] 1\n",
      "\"\"\"\"\"\"\"\"\"\"\"\"\"\"\"\"\"\n",
      "row 75   value [ 5.5  2.4  0.   1. ] 1\n",
      "row 75   value [ 5.5  2.4  0.   1. ] 0\n",
      "\"\"\"\"\"\"\"\"\"\"\"\"\"\"\"\"\"\n",
      "row 76   value [ 0.  0.  0.  0.] 0\n",
      "row 76   value [ 0.  0.  0.  0.] 1\n",
      "\"\"\"\"\"\"\"\"\"\"\"\"\"\"\"\"\"\n",
      "row 99   value [ 6.3  0.   4.7  1.6] 1\n",
      "row 99   value [ 6.3  0.   4.7  1.6] 2\n",
      "\"\"\"\"\"\"\"\"\"\"\"\"\"\"\"\"\"\n",
      "row 46   value [ 6.5  2.8  4.6  1.5] 1\n",
      "row 46   value [ 6.5  2.8  0.   1.5] 0\n",
      "\"\"\"\"\"\"\"\"\"\"\"\"\"\"\"\"\"\n",
      "row 77   value [ 6.7  3.   0.   2.3] 2\n",
      "row 77   value [ 6.7  3.   0.   2.3] 1\n",
      "\"\"\"\"\"\"\"\"\"\"\"\"\"\"\"\"\"\n",
      "row 22   value [ 7.7  2.6  6.9  2.3] 2\n",
      "row 22   value [ 7.7  2.6  0.   2.3] 1\n",
      "\"\"\"\"\"\"\"\"\"\"\"\"\"\"\"\"\"\n",
      "row 89   value [ 6.4  3.2  5.3  2.3] 2\n",
      "row 89   value [ 6.4  3.2  0.   2.3] 1\n",
      "\"\"\"\"\"\"\"\"\"\"\"\"\"\"\"\"\"\n",
      "row 74   value [ 5.5  2.5  4.   1.3] 1\n",
      "row 74   value [ 5.5  2.5  0.   1.3] 0\n",
      "\"\"\"\"\"\"\"\"\"\"\"\"\"\"\"\"\"\n",
      "row 58   value [ 0.  0.  0.  0.] 2\n",
      "row 58   value [ 0.  0.  0.  0.] 1\n",
      "\"\"\"\"\"\"\"\"\"\"\"\"\"\"\"\"\"\n",
      "row 93   value [ 6.8  3.2  5.9  2.3] 2\n",
      "row 93   value [ 6.8  3.2  5.9  0. ] 1\n",
      "\"\"\"\"\"\"\"\"\"\"\"\"\"\"\"\"\"\n"
     ]
    }
   ],
   "source": [
    "change_random(x_train,y_train,10,mnb)"
   ]
  },
  {
   "cell_type": "code",
   "execution_count": 31,
   "metadata": {},
   "outputs": [
    {
     "name": "stdout",
     "output_type": "stream",
     "text": [
      "12\n",
      "[ 5.4  3.   4.5  1.5] 1\n",
      "hahahah\n",
      "[ 0.   3.   4.5  1.5]\n",
      "[ 0.   3.   4.5  1.5] 2\n",
      "@@@@@@@@@@@@@@@@@@@@\n",
      "[ 4.6  3.2  1.4  0.2] 0\n",
      "hahahah\n",
      "[ 0.   3.2  1.4  0.2]\n",
      "hahahah\n",
      "[ 0.   0.   1.4  0.2]\n",
      "[ 0.   0.   1.4  0.2] 2\n",
      "@@@@@@@@@@@@@@@@@@@@\n",
      "[ 6.7  2.5  5.8  1.8] 2\n",
      "hahahah\n",
      "[ 0.   2.5  5.8  1.8]\n",
      "hahahah\n",
      "[ 0.   0.   5.8  1.8]\n",
      "hahahah\n",
      "[ 0.   0.   0.   1.8]\n",
      "hahahah\n",
      "[ 0.  0.  0.  0.]\n",
      "[ 0.  0.  0.  0.] 1\n",
      "@@@@@@@@@@@@@@@@@@@@\n",
      "[ 4.9  3.   1.4  0.2] 0\n",
      "hahahah\n",
      "[ 0.   3.   1.4  0.2]\n",
      "hahahah\n",
      "[ 0.   0.   1.4  0.2]\n",
      "[ 0.   0.   1.4  0.2] 2\n",
      "@@@@@@@@@@@@@@@@@@@@\n",
      "[ 5.   2.3  3.3  1. ] 1\n",
      "hahahah\n",
      "[ 0.   2.3  3.3  1. ]\n",
      "[ 0.   2.3  3.3  1. ] 2\n",
      "@@@@@@@@@@@@@@@@@@@@\n",
      "[ 6.7  3.3  5.7  2.5] 2\n",
      "hahahah\n",
      "[ 0.   3.3  5.7  2.5]\n",
      "hahahah\n",
      "[ 0.   0.   5.7  2.5]\n",
      "hahahah\n",
      "[ 0.   0.   0.   2.5]\n",
      "hahahah\n",
      "[ 0.  0.  0.  0.]\n",
      "[ 0.  0.  0.  0.] 1\n",
      "@@@@@@@@@@@@@@@@@@@@\n",
      "[ 7.2  3.2  6.   1.8] 2\n",
      "[ 7.2  3.2  6.   1.8] 1\n",
      "@@@@@@@@@@@@@@@@@@@@\n",
      "[ 5.8  2.6  4.   1.2] 1\n",
      "hahahah\n",
      "[ 0.   2.6  4.   1.2]\n",
      "[ 0.   2.6  4.   1.2] 2\n",
      "@@@@@@@@@@@@@@@@@@@@\n",
      "[ 6.7  3.1  4.7  1.5] 1\n",
      "hahahah\n",
      "[ 0.   3.1  4.7  1.5]\n",
      "[ 0.   3.1  4.7  1.5] 2\n",
      "@@@@@@@@@@@@@@@@@@@@\n",
      "[ 5.1  3.8  1.6  0.2] 0\n",
      "hahahah\n",
      "[ 0.   3.8  1.6  0.2]\n",
      "hahahah\n",
      "[ 0.   0.   1.6  0.2]\n",
      "[ 0.   0.   1.6  0.2] 2\n",
      "@@@@@@@@@@@@@@@@@@@@\n",
      "[ 7.7  3.   6.1  2.3] 2\n",
      "hahahah\n",
      "[ 0.   3.   6.1  2.3]\n",
      "hahahah\n",
      "[ 0.   0.   6.1  2.3]\n",
      "hahahah\n",
      "[ 0.   0.   0.   2.3]\n",
      "hahahah\n",
      "[ 0.  0.  0.  0.]\n",
      "[ 0.  0.  0.  0.] 1\n",
      "@@@@@@@@@@@@@@@@@@@@\n",
      "[ 5.   3.4  1.5  0.2] 0\n",
      "hahahah\n",
      "[ 0.   3.4  1.5  0.2]\n",
      "hahahah\n",
      "[ 0.   0.   1.5  0.2]\n",
      "[ 0.   0.   1.5  0.2] 2\n",
      "@@@@@@@@@@@@@@@@@@@@\n"
     ]
    }
   ],
   "source": [
    "x_train_changed=changed2(x_train,y_train,10,mnb)"
   ]
  },
  {
   "cell_type": "code",
   "execution_count": 26,
   "metadata": {},
   "outputs": [
    {
     "data": {
      "text/plain": [
       "0.78828347578347591"
      ]
     },
     "execution_count": 26,
     "metadata": {},
     "output_type": "execute_result"
    }
   ],
   "source": [
    "y_pred_train=mnb.predict(x_train)\n",
    "f1_score(y_train, y_pred_train, average='macro')"
   ]
  },
  {
   "cell_type": "code",
   "execution_count": 19,
   "metadata": {},
   "outputs": [
    {
     "data": {
      "text/plain": [
       "0.78828347578347591"
      ]
     },
     "execution_count": 19,
     "metadata": {},
     "output_type": "execute_result"
    }
   ],
   "source": [
    "y_pred1=mnb.predict(x_train_changed)\n",
    "f1_score(y_train, y_pred1, average='macro')"
   ]
  },
  {
   "cell_type": "code",
   "execution_count": 20,
   "metadata": {},
   "outputs": [
    {
     "data": {
      "text/plain": [
       "0.80952380952380965"
      ]
     },
     "execution_count": 20,
     "metadata": {},
     "output_type": "execute_result"
    }
   ],
   "source": [
    "y_pred2=mnb.predict(x_test)\n",
    "f1_score(y_test, y_pred2, average='macro')"
   ]
  },
  {
   "cell_type": "code",
   "execution_count": 21,
   "metadata": {},
   "outputs": [
    {
     "name": "stdout",
     "output_type": "stream",
     "text": [
      "3\n",
      "[ 6.4  2.8  5.6  2.1] 2\n",
      "[ 0.  0.  0.  0.] 1\n",
      "@@@@@@@@@@@@@@@@@@@@\n",
      "[ 5.7  3.8  1.7  0.3] 0\n",
      "[ 0.   0.   1.7  0.3] 2\n",
      "@@@@@@@@@@@@@@@@@@@@\n",
      "[ 7.4  2.8  6.1  1.9] 2\n",
      "[ 7.4  2.8  6.1  1.9] 1\n",
      "@@@@@@@@@@@@@@@@@@@@\n"
     ]
    }
   ],
   "source": [
    "x_test_changed=changed2(x_test,y_test,10,mnb)"
   ]
  },
  {
   "cell_type": "code",
   "execution_count": 22,
   "metadata": {},
   "outputs": [
    {
     "data": {
      "text/plain": [
       "0.73527905785970304"
      ]
     },
     "execution_count": 22,
     "metadata": {},
     "output_type": "execute_result"
    }
   ],
   "source": [
    "y_pred3=mnb.predict(x_test_changed)\n",
    "f1_score(y_test, y_pred3, average='macro')"
   ]
  },
  {
   "cell_type": "code",
   "execution_count": 35,
   "metadata": {},
   "outputs": [],
   "source": []
  },
  {
   "cell_type": "code",
   "execution_count": null,
   "metadata": {},
   "outputs": [],
   "source": []
  }
 ],
 "metadata": {
  "kernelspec": {
   "display_name": "Python 3",
   "language": "python",
   "name": "python3"
  },
  "language_info": {
   "codemirror_mode": {
    "name": "ipython",
    "version": 3
   },
   "file_extension": ".py",
   "mimetype": "text/x-python",
   "name": "python",
   "nbconvert_exporter": "python",
   "pygments_lexer": "ipython3",
   "version": "3.6.4"
  }
 },
 "nbformat": 4,
 "nbformat_minor": 2
}
