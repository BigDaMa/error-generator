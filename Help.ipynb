{
 "cells": [
  {
   "cell_type": "markdown",
   "metadata": {},
   "source": [
    "\n",
    "## How to use Error Generator ?\n",
    "\n",
    "- Import the project \n",
    "- Feed it with data \n",
    "- Check the results\n"
   ]
  },
  {
   "cell_type": "code",
   "execution_count": 9,
   "metadata": {},
   "outputs": [],
   "source": [
    "import os"
   ]
  },
  {
   "cell_type": "code",
   "execution_count": 1,
   "metadata": {},
   "outputs": [],
   "source": [
    "import error_generator"
   ]
  },
  {
   "cell_type": "code",
   "execution_count": 4,
   "metadata": {},
   "outputs": [],
   "source": [
    "from error_generator.strategies.typos.typo_butterfingers.typo_butterfingers import Typo_Butterfingers\n",
    "from error_generator.strategies.typos.typo_keyboard.typo_keyboard import Typo_Keyboard\n",
    "from error_generator.strategies.switch_value.Similar_based_active_domain.similar_based_active_domain import Similar_Based_Active_Domain\n",
    "from error_generator.strategies.switch_value.random_active_domain.random_active_domain import Random_Active_Domain\n",
    "from error_generator.strategies.noise.white_noise.white_noise import White_Noise\n",
    "from error_generator.strategies.noise.gaussian_noise.gaussian_noise import Gaussian_Noise\n",
    "from error_generator.strategies.missing_value.implicit_missing_value.implicit_missing_value import Implicit_Missing_Value\n",
    "from error_generator.strategies.missing_value.explicit_missing_value.explicit_missing_value import Explicit_Missing_Value\n",
    "from error_generator.strategies.utilities.list_selected import List_selected\n",
    "from error_generator.strategies.utilities.input_output import Read_Write\n",
    "from error_generator.strategies.word2vec.word2vec_nearest_neighbor.word2vec_nearest_neighbor import Word2vec_Nearest_Neighbor\n",
    "from error_generator.api.error_generator_api import Error_Generator"
   ]
  },
  {
   "cell_type": "code",
   "execution_count": 9,
   "metadata": {},
   "outputs": [
    {
     "name": "stdout",
     "output_type": "stream",
     "text": [
      "---------Change according to Explicit_Missing_Value method ---------------\n",
      "\n",
      "row: 9 col: 10 : '126642363' changed to ''  \n",
      "row: 3 col: 3 : 'WILSON' changed to ''  \n",
      "row: 2 col: 11 : '7-May-85' changed to ''  \n",
      "row: 5 col: 8 : 'APTO 720506' changed to ''  \n",
      "row: 1 col: 7 : '77584' changed to ''  \n"
     ]
    }
   ],
   "source": [
    "dataset,dataframe = Read_Write.read_csv_dataset(\"./datasets/test.csv\")\n",
    "mymethod=Explicit_Missing_Value()\n",
    "myselector=List_selected()\n",
    "\n",
    "mygen=Error_Generator()\n",
    "new_dataset=mygen.error_generator(method_gen=mymethod,selector=myselector,percentage=50,dataset=dataset,mute_column=[1,2])\n"
   ]
  },
  {
   "cell_type": "code",
   "execution_count": 12,
   "metadata": {},
   "outputs": [
    {
     "ename": "ImportError",
     "evalue": "cannot import name 'Implicit_Missing_Value'",
     "output_type": "error",
     "traceback": [
      "\u001b[0;31m---------------------------------------------------------------------------\u001b[0m",
      "\u001b[0;31mImportError\u001b[0m                               Traceback (most recent call last)",
      "\u001b[0;32m<ipython-input-12-3283f3bcecc0>\u001b[0m in \u001b[0;36m<module>\u001b[0;34m()\u001b[0m\n\u001b[0;32m----> 1\u001b[0;31m \u001b[0;32mfrom\u001b[0m \u001b[0merror_generator\u001b[0m \u001b[0;32mimport\u001b[0m \u001b[0mImplicit_Missing_Value\u001b[0m\u001b[0;34m\u001b[0m\u001b[0m\n\u001b[0m",
      "\u001b[0;31mImportError\u001b[0m: cannot import name 'Implicit_Missing_Value'"
     ]
    }
   ],
   "source": [
    "from error_generator import Implicit_Missing_Value"
   ]
  },
  {
   "cell_type": "code",
   "execution_count": null,
   "metadata": {},
   "outputs": [],
   "source": []
  }
 ],
 "metadata": {
  "kernelspec": {
   "display_name": "Python 3",
   "language": "python",
   "name": "python3"
  },
  "language_info": {
   "codemirror_mode": {
    "name": "ipython",
    "version": 3
   },
   "file_extension": ".py",
   "mimetype": "text/x-python",
   "name": "python",
   "nbconvert_exporter": "python",
   "pygments_lexer": "ipython3",
   "version": "3.6.4"
  }
 },
 "nbformat": 4,
 "nbformat_minor": 2
}
